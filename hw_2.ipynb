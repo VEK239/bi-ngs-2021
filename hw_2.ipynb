{
  "nbformat": 4,
  "nbformat_minor": 0,
  "metadata": {
    "colab": {
      "name": "bi_ngs_hw_2.ipynb",
      "provenance": []
    },
    "kernelspec": {
      "display_name": "Python 3",
      "name": "python3"
    }
  },
  "cells": [
    {
      "cell_type": "markdown",
      "metadata": {
        "id": "1qIkJz7zAuwp"
      },
      "source": [
        "# Installing bwa, samtools and making the alignment "
      ]
    },
    {
      "cell_type": "code",
      "metadata": {
        "id": "zDwNr0i7J9QY"
      },
      "source": [
        "!sudo apt-get install bwa\n",
        "!sudo apt-get install samtools"
      ],
      "execution_count": null,
      "outputs": []
    },
    {
      "cell_type": "code",
      "metadata": {
        "id": "E-yUg0dEy5yf"
      },
      "source": [
        "!bwa index MG1655-K12.fasta\n",
        "!bwa mem MG1655-K12.fasta ecoli_mda_lane1_left.downsampled.fastq.gz ecoli_mda_lane1_right.downsampled.fastq.gz > alignment_mda.sam\n",
        "!samtools view -S -b alignment_mda.sam > alignment_mda.bam\n",
        "!samtools sort alignment_mda.bam > alignment_mda_sorted.bam\n",
        "!samtools index alignment_mda_sorted.bam"
      ],
      "execution_count": null,
      "outputs": []
    },
    {
      "cell_type": "code",
      "metadata": {
        "colab": {
          "base_uri": "https://localhost:8080/"
        },
        "id": "yy2Txwx7CJds",
        "outputId": "f66f41d2-cfa6-4f7d-de7a-f35081bb7064"
      },
      "source": [
        "!samtools flagstat alignment_mda.bam"
      ],
      "execution_count": null,
      "outputs": [
        {
          "output_type": "stream",
          "text": [
            "5869326 + 0 in total (QC-passed reads + QC-failed reads)\n",
            "0 + 0 secondary\n",
            "40560 + 0 supplementary\n",
            "0 + 0 duplicates\n",
            "5706946 + 0 mapped (97.23% : N/A)\n",
            "5828766 + 0 paired in sequencing\n",
            "2914383 + 0 read1\n",
            "2914383 + 0 read2\n",
            "5151500 + 0 properly paired (88.38% : N/A)\n",
            "5647486 + 0 with itself and mate mapped\n",
            "18900 + 0 singletons (0.32% : N/A)\n",
            "0 + 0 with mate mapped to a different chr\n",
            "0 + 0 with mate mapped to a different chr (mapQ>=5)\n"
          ],
          "name": "stdout"
        }
      ]
    },
    {
      "cell_type": "code",
      "metadata": {
        "id": "uaKEtbt3Ja3T"
      },
      "source": [
        "!bwa index MG1655-K12.first10K.fasta\n",
        "!bwa mem MG1655-K12.first10K.fasta test_1.fastq test_2.fastq > alignment_test.sam\n",
        "!samtools view -S -b alignment_test.sam > alignment_test.bam\n",
        "!samtools sort alignment_test.bam > alignment_test_sorted.bam\n",
        "!samtools index alignment_test_sorted.bam"
      ],
      "execution_count": null,
      "outputs": []
    },
    {
      "cell_type": "code",
      "metadata": {
        "colab": {
          "base_uri": "https://localhost:8080/"
        },
        "id": "0aDfcZk4CL-i",
        "outputId": "499bdb0b-5d06-44fb-cac2-277e4da32b4c"
      },
      "source": [
        "!samtools flagstat alignment_test.bam"
      ],
      "execution_count": null,
      "outputs": [
        {
          "output_type": "stream",
          "text": [
            "56320 + 0 in total (QC-passed reads + QC-failed reads)\n",
            "0 + 0 secondary\n",
            "0 + 0 supplementary\n",
            "0 + 0 duplicates\n",
            "56320 + 0 mapped (100.00% : N/A)\n",
            "56320 + 0 paired in sequencing\n",
            "28160 + 0 read1\n",
            "28160 + 0 read2\n",
            "56280 + 0 properly paired (99.93% : N/A)\n",
            "56320 + 0 with itself and mate mapped\n",
            "0 + 0 singletons (0.00% : N/A)\n",
            "0 + 0 with mate mapped to a different chr\n",
            "0 + 0 with mate mapped to a different chr (mapQ>=5)\n"
          ],
          "name": "stdout"
        }
      ]
    },
    {
      "cell_type": "code",
      "metadata": {
        "id": "8Ze_X6-9Ja_m"
      },
      "source": [
        "!bwa index MG1655-K12.fasta\n",
        "!bwa mem MG1655-K12.fasta 100x.1.fastq.gz 100x.2.fastq.gz > alignment_100x.sam\n",
        "!samtools view -S -b alignment_100x.sam > alignment_100x.bam\n",
        "!samtools sort alignment_100x.bam > alignment_100x_sorted.bam\n",
        "!samtools index alignment_100x_sorted.bam"
      ],
      "execution_count": null,
      "outputs": []
    },
    {
      "cell_type": "code",
      "metadata": {
        "colab": {
          "base_uri": "https://localhost:8080/"
        },
        "id": "-1fcX76zCPFD",
        "outputId": "ba8972e6-1b04-4bd4-9f08-3db805e7d52c"
      },
      "source": [
        "!samtools flagstat alignment_100x.bam"
      ],
      "execution_count": null,
      "outputs": [
        {
          "output_type": "stream",
          "text": [
            "5000581 + 0 in total (QC-passed reads + QC-failed reads)\n",
            "0 + 0 secondary\n",
            "581 + 0 supplementary\n",
            "0 + 0 duplicates\n",
            "4991553 + 0 mapped (99.82% : N/A)\n",
            "5000000 + 0 paired in sequencing\n",
            "2500000 + 0 read1\n",
            "2500000 + 0 read2\n",
            "4978334 + 0 properly paired (99.57% : N/A)\n",
            "4983734 + 0 with itself and mate mapped\n",
            "7238 + 0 singletons (0.14% : N/A)\n",
            "0 + 0 with mate mapped to a different chr\n",
            "0 + 0 with mate mapped to a different chr (mapQ>=5)\n"
          ],
          "name": "stdout"
        }
      ]
    },
    {
      "cell_type": "code",
      "metadata": {
        "id": "3_HmqlC0BRwY"
      },
      "source": [
        "!bwa index test_reference.fasta\n",
        "!bwa mem test_reference.fasta test.fastq > alignment_it_test.sam\n",
        "!samtools view -S -b alignment_it_test.sam > alignment_it_test.bam\n",
        "!samtools sort alignment_it_test.bam > alignment_it_test_sorted.bam\n",
        "!samtools index alignment_it_test_sorted.bam"
      ],
      "execution_count": null,
      "outputs": []
    },
    {
      "cell_type": "code",
      "metadata": {
        "colab": {
          "base_uri": "https://localhost:8080/"
        },
        "id": "OBK6r4OECSVm",
        "outputId": "6777cb04-3427-463d-ea7f-62c12569cd10"
      },
      "source": [
        "!samtools flagstat alignment_it_test.bam"
      ],
      "execution_count": null,
      "outputs": [
        {
          "output_type": "stream",
          "text": [
            "250 + 0 in total (QC-passed reads + QC-failed reads)\n",
            "0 + 0 secondary\n",
            "0 + 0 supplementary\n",
            "0 + 0 duplicates\n",
            "0 + 0 mapped (0.00% : N/A)\n",
            "0 + 0 paired in sequencing\n",
            "0 + 0 read1\n",
            "0 + 0 read2\n",
            "0 + 0 properly paired (N/A : N/A)\n",
            "0 + 0 with itself and mate mapped\n",
            "0 + 0 singletons (N/A : N/A)\n",
            "0 + 0 with mate mapped to a different chr\n",
            "0 + 0 with mate mapped to a different chr (mapQ>=5)\n"
          ],
          "name": "stdout"
        }
      ]
    },
    {
      "cell_type": "code",
      "metadata": {
        "id": "MZ6bTkkuEf_3"
      },
      "source": [
        "!bwa index DH10B-K12.fasta\n",
        "!bwa mem DH10B-K12.fasta B22-730.fastq.gz > alignment_it_b.sam\n",
        "!samtools view -S -b alignment_it_b.sam > alignment_it_b.bam\n",
        "!samtools sort alignment_it_b.bam > alignment_it_b_sorted.bam\n",
        "!samtools index alignment_it_b_sorted.bam"
      ],
      "execution_count": null,
      "outputs": []
    },
    {
      "cell_type": "code",
      "metadata": {
        "colab": {
          "base_uri": "https://localhost:8080/"
        },
        "id": "1d-twSDoEgJa",
        "outputId": "c47f044c-4e9f-4c6d-fdf5-0c7eb2015b37"
      },
      "source": [
        "!samtools flagstat alignment_it_b_sorted.bam"
      ],
      "execution_count": null,
      "outputs": [
        {
          "output_type": "stream",
          "text": [
            "497384 + 0 in total (QC-passed reads + QC-failed reads)\n",
            "0 + 0 secondary\n",
            "2463 + 0 supplementary\n",
            "0 + 0 duplicates\n",
            "489459 + 0 mapped (98.41% : N/A)\n",
            "0 + 0 paired in sequencing\n",
            "0 + 0 read1\n",
            "0 + 0 read2\n",
            "0 + 0 properly paired (N/A : N/A)\n",
            "0 + 0 with itself and mate mapped\n",
            "0 + 0 singletons (N/A : N/A)\n",
            "0 + 0 with mate mapped to a different chr\n",
            "0 + 0 with mate mapped to a different chr (mapQ>=5)\n"
          ],
          "name": "stdout"
        }
      ]
    },
    {
      "cell_type": "code",
      "metadata": {
        "id": "UZvIcvRmEgSI"
      },
      "source": [
        "!bwa index DH10B-K12.fasta\n",
        "!bwa mem DH10B-K12.fasta C24-698.fastq.gz > alignment_it_c.sam\n",
        "!samtools view -S -b alignment_it_c.sam > alignment_it_c.bam\n",
        "!samtools sort alignment_it_c.bam > alignment_it_c_sorted.bam\n",
        "!samtools index alignment_it_c_sorted.bam"
      ],
      "execution_count": null,
      "outputs": []
    },
    {
      "cell_type": "code",
      "metadata": {
        "colab": {
          "base_uri": "https://localhost:8080/"
        },
        "id": "sBFqClJ1EgW_",
        "outputId": "1b0b0f45-ca67-4aff-ca14-a3bfd4c60b6a"
      },
      "source": [
        "!samtools flagstat alignment_it_c_sorted.bam"
      ],
      "execution_count": null,
      "outputs": [
        {
          "output_type": "stream",
          "text": [
            "686667 + 0 in total (QC-passed reads + QC-failed reads)\n",
            "0 + 0 secondary\n",
            "1261 + 0 supplementary\n",
            "0 + 0 duplicates\n",
            "682638 + 0 mapped (99.41% : N/A)\n",
            "0 + 0 paired in sequencing\n",
            "0 + 0 read1\n",
            "0 + 0 read2\n",
            "0 + 0 properly paired (N/A : N/A)\n",
            "0 + 0 with itself and mate mapped\n",
            "0 + 0 singletons (N/A : N/A)\n",
            "0 + 0 with mate mapped to a different chr\n",
            "0 + 0 with mate mapped to a different chr (mapQ>=5)\n"
          ],
          "name": "stdout"
        }
      ]
    },
    {
      "cell_type": "code",
      "metadata": {
        "colab": {
          "base_uri": "https://localhost:8080/"
        },
        "id": "yqaP2SJtG_oV",
        "outputId": "fc76f9d8-bb0f-416c-c2a0-bfa34ad2210e"
      },
      "source": [
        "!pip install pysam"
      ],
      "execution_count": 7,
      "outputs": [
        {
          "output_type": "stream",
          "text": [
            "Collecting pysam\n",
            "\u001b[?25l  Downloading https://files.pythonhosted.org/packages/20/85/335857b9888f6d9a13b03a8f21b0a6228b180c361631d9d70e7be3e22163/pysam-0.16.0.1-cp37-cp37m-manylinux1_x86_64.whl (9.9MB)\n",
            "\u001b[K     |████████████████████████████████| 9.9MB 3.6MB/s \n",
            "\u001b[?25hInstalling collected packages: pysam\n",
            "Successfully installed pysam-0.16.0.1\n"
          ],
          "name": "stdout"
        }
      ]
    },
    {
      "cell_type": "markdown",
      "metadata": {
        "id": "gnooOGlPBMKj"
      },
      "source": [
        "# Stats functions"
      ]
    },
    {
      "cell_type": "code",
      "metadata": {
        "id": "LTzCXG7TISmO"
      },
      "source": [
        "import pysam\n",
        "import matplotlib.pyplot as plt\n",
        "import matplotlib\n",
        "import statistics\n",
        "import numpy as np\n",
        "from collections import defaultdict, Counter\n",
        "import pandas as pd\n",
        "import seaborn as sns"
      ],
      "execution_count": 50,
      "outputs": []
    },
    {
      "cell_type": "code",
      "metadata": {
        "id": "Yx8y5nNzE0Mr"
      },
      "source": [
        "def process_read_distribution(samfile: pysam.AlignmentFile):\n",
        "  print(\"===========\")\n",
        "  print('Coverage stats')\n",
        "  distribution = []\n",
        "  for pileupcolumn in samfile.pileup():\n",
        "      distribution.append(pileupcolumn.get_num_aligned())\n",
        "  print(f'Mean coverage is {sum(distribution) / len(distribution)}')\n",
        "  print(f'The percent of genome covered is {100 - 100 * (sum(x == 0 for x in distribution) / len(distribution))}')\n",
        "  plt.plot(distribution, label=\"Coverage distribution\")\n",
        "  plt.show()\n",
        "  print(\"===========\")\n",
        "  print('Template length stats')\n",
        "  template_len = []\n",
        "  for read in samfile.fetch():\n",
        "    if read.is_read1 and not read.mate_is_unmapped:\n",
        "        template_len.append(abs(read.template_length))\n",
        "  perc_25 = np.percentile(np.array(template_len), 2.5)\n",
        "  perc_975 = np.percentile(np.array(template_len), 97.5)\n",
        "  sns.histplot([t for t in template_len if t < 1000], label=\"Template length distribution\", bins=100)\n",
        "  plt.show()\n",
        "  print(f'The mean template length is {statistics.mean(template_len)}')\n",
        "  print(f'The standard deviation of template length is {statistics.stdev(template_len)}')\n",
        "  print(f'The minimum 95% interval of template length is [{perc_25}, {perc_975}]')"
      ],
      "execution_count": null,
      "outputs": []
    },
    {
      "cell_type": "code",
      "metadata": {
        "id": "-qM0qtr0TH6y"
      },
      "source": [
        "def process_errors(samfile: pysam.AlignmentFile):\n",
        "  print(\"===========\")\n",
        "  print('Error stats')\n",
        "  errors_map = defaultdict(lambda: defaultdict(int))\n",
        "  sum_nucls = 0\n",
        "  for read in samfile.fetch():\n",
        "    if not read.is_unmapped:\n",
        "      read_sequence = read.query_alignment_sequence\n",
        "      ref_sequence = read.get_reference_sequence().upper()\n",
        "      for v, r in zip(read_sequence, ref_sequence):\n",
        "        sum_nucls += 1\n",
        "        if v in 'ACTG' and r in 'ACTG' and v != r:\n",
        "          errors_map[r][v] += 1\n",
        "  for nucl in 'ACTG':\n",
        "    errors_map[nucl][nucl] = 0\n",
        "  df = pd.DataFrame(errors_map)\n",
        "  df = df.sort_index()\n",
        "  df = df.reindex(sorted(df.columns), axis=1)\n",
        "  print(df.to_string(na_rep='0'))\n",
        "  print(f'Error percent is {sum(sum(v.values()) for v in errors_map.values()) / sum_nucls * 100}')"
      ],
      "execution_count": null,
      "outputs": []
    },
    {
      "cell_type": "markdown",
      "metadata": {
        "id": "0oPtkI6lAixj"
      },
      "source": [
        "## Part 1. E. coli Illumina reads"
      ]
    },
    {
      "cell_type": "code",
      "metadata": {
        "colab": {
          "base_uri": "https://localhost:8080/",
          "height": 819
        },
        "id": "SRcNYcxmJrOQ",
        "outputId": "8bc0be57-5206-42b9-88bf-c264702599f7"
      },
      "source": [
        "print('PROCESSING THE TEST FILE')\n",
        "samfile = pysam.AlignmentFile(\"alignment_test_sorted.bam\", \"rb\")\n",
        "process_read_distribution(samfile=samfile)\n",
        "process_errors(samfile=samfile)"
      ],
      "execution_count": null,
      "outputs": [
        {
          "output_type": "stream",
          "text": [
            "PROCESSING THE TEST FILE\n",
            "===========\n",
            "Coverage stats\n",
            "Mean coverage is 502.3009\n",
            "The percent of genome covered is 100.0\n"
          ],
          "name": "stdout"
        },
        {
          "output_type": "display_data",
          "data": {
            "image/png": "[encoded data removed]",
            "text/plain": [
              "<Figure size 432x288 with 1 Axes>"
            ]
          },
          "metadata": {
            "tags": [],
            "needs_background": "light"
          }
        },
        {
          "output_type": "stream",
          "text": [
            "===========\n",
            "Template length stats\n"
          ],
          "name": "stdout"
        },
        {
          "output_type": "display_data",
          "data": {
            "image/png": "[encoded data removed]",
            "text/plain": [
              "<Figure size 432x288 with 1 Axes>"
            ]
          },
          "metadata": {
            "tags": [],
            "needs_background": "light"
          }
        },
        {
          "output_type": "stream",
          "text": [
            "The mean template length is 215.2860440340909\n",
            "The standard deviation of template length is 10.590228980858694\n",
            "The minimum 95% interval of template length is [196.0, 234.0]\n",
            "===========\n",
            "Error stats\n",
            "    A    C     G     T\n",
            "A   0    0     0     0\n",
            "C  15  0.0  21.0     0\n",
            "G  19  2.0   0.0  16.0\n",
            "T   1  1.0  34.0   0.0\n",
            "Error percent is 0.0021415602779470177\n"
          ],
          "name": "stdout"
        }
      ]
    },
    {
      "cell_type": "code",
      "metadata": {
        "id": "zRMKLp3zKLlM",
        "colab": {
          "base_uri": "https://localhost:8080/",
          "height": 829
        },
        "outputId": "85fb8b5f-17b5-4a8c-e6be-86b3207f0d35"
      },
      "source": [
        "print('PROCESSING THE 100X FILE')\n",
        "samfile = pysam.AlignmentFile(\"alignment_100x_sorted.bam\", \"rb\")\n",
        "process_read_distribution(samfile=samfile)\n",
        "process_errors(samfile=samfile)"
      ],
      "execution_count": null,
      "outputs": [
        {
          "output_type": "stream",
          "text": [
            "PROCESSING THE 100X FILE\n",
            "===========\n",
            "Coverage stats\n",
            "Mean coverage is 97.5023219323788\n",
            "The percent of genome covered is 99.99997844674299\n"
          ],
          "name": "stdout"
        },
        {
          "output_type": "display_data",
          "data": {
            "image/png": "[encoded data removed]",
            "text/plain": [
              "<Figure size 432x288 with 1 Axes>"
            ]
          },
          "metadata": {
            "tags": [],
            "needs_background": "light"
          }
        },
        {
          "output_type": "stream",
          "text": [
            "===========\n",
            "Template length stats\n"
          ],
          "name": "stdout"
        },
        {
          "output_type": "display_data",
          "data": {
            "image/png": "[encoded data removed]",
            "text/plain": [
              "<Figure size 432x288 with 1 Axes>"
            ]
          },
          "metadata": {
            "tags": [],
            "needs_background": "light"
          }
        },
        {
          "output_type": "stream",
          "text": [
            "The mean template length is 951.8755531395055\n",
            "The standard deviation of template length is 44418.66191046992\n",
            "The minimum 95% interval of template length is [196.0, 235.0]\n",
            "===========\n",
            "Error stats\n",
            "        A       C       G       T\n",
            "A       0  300593  184205  171085\n",
            "C  668375       0  279382  403973\n",
            "G  405910  280717       0  663350\n",
            "T  167907  182190  301657       0\n",
            "Error percent is 0.8211859950320891\n"
          ],
          "name": "stdout"
        }
      ]
    },
    {
      "cell_type": "code",
      "metadata": {
        "colab": {
          "base_uri": "https://localhost:8080/",
          "height": 829
        },
        "id": "3BtHoWeNU5JL",
        "outputId": "4670bca6-17f9-4ae8-b4c6-7c1ad90db98e"
      },
      "source": [
        "print('PROCESSING THE MDA FILE')\n",
        "samfile = pysam.AlignmentFile(\"alignment_mda_sorted.bam\", \"rb\")\n",
        "process_read_distribution(samfile=samfile)\n",
        "process_errors(samfile=samfile)"
      ],
      "execution_count": null,
      "outputs": [
        {
          "output_type": "stream",
          "text": [
            "PROCESSING THE MDA FILE\n",
            "===========\n",
            "Coverage stats\n",
            "Mean coverage is 110.3260386064313\n",
            "The percent of genome covered is 100.0\n"
          ],
          "name": "stdout"
        },
        {
          "output_type": "display_data",
          "data": {
            "image/png": "[encoded data removed]",
            "text/plain": [
              "<Figure size 432x288 with 1 Axes>"
            ]
          },
          "metadata": {
            "tags": [],
            "needs_background": "light"
          }
        },
        {
          "output_type": "stream",
          "text": [
            "===========\n",
            "Template length stats\n"
          ],
          "name": "stdout"
        },
        {
          "output_type": "display_data",
          "data": {
            "image/png": "[encoded data removed]",
            "text/plain": [
              "<Figure size 432x288 with 1 Axes>"
            ]
          },
          "metadata": {
            "tags": [],
            "needs_background": "light"
          }
        },
        {
          "output_type": "stream",
          "text": [
            "The mean template length is 30681.307553487815\n",
            "The standard deviation of template length is 243781.16273837932\n",
            "The minimum 95% interval of template length is [88.0, 16630.299999999814]\n",
            "===========\n",
            "Error stats\n",
            "        A       C       G       T\n",
            "A       0  323308  211551  213699\n",
            "C  660317       0  271214  417816\n",
            "G  414341  269568       0  643426\n",
            "T  208620  211646  319684       0\n",
            "Error percent is 0.7520242517678809\n"
          ],
          "name": "stdout"
        }
      ]
    },
    {
      "cell_type": "markdown",
      "metadata": {
        "id": "7tcFoi7KBy_A"
      },
      "source": [
        "# Part 2. IonTorrent reads "
      ]
    },
    {
      "cell_type": "code",
      "metadata": {
        "id": "cI6ED34wHc6j"
      },
      "source": [
        "def process_it_read_distribution(samfile: pysam.AlignmentFile):\n",
        "  print(\"===========\")\n",
        "  print('Coverage stats')\n",
        "  distribution = []\n",
        "  for pileupcolumn in samfile.pileup():\n",
        "      distribution.append(pileupcolumn.get_num_aligned())\n",
        "  print(f'Mean coverage is {sum(distribution) / len(distribution)}')\n",
        "  print(f'The percent of genome covered is {100 - 100 * (sum(x == 0 for x in distribution) / len(distribution))}')\n",
        "  plt.plot(distribution, label=\"Coverage distribution\")\n",
        "  plt.show()\n",
        "\n",
        "def count_indel_stats(samfile: pysam.AlignmentFile):\n",
        "  print(\"===========\")\n",
        "  print('Indel distribution stats')\n",
        "  indel_stats = []\n",
        "  for position in samfile.pileup():\n",
        "     for res in position.get_query_sequences(add_indels=True):\n",
        "       if '+' in res:\n",
        "          res = ''.join(i for i in res if i.isnumeric())\n",
        "          l = int(res)\n",
        "          indel_stats.append(l)\n",
        "  perc_25 = np.percentile(np.array(indel_stats), 2.5)\n",
        "  perc_975 = np.percentile(np.array(indel_stats), 97.5)\n",
        "  print(f'The mean indel length is {statistics.mean(indel_stats)}')\n",
        "  print(f'The standard deviation of indel length is {statistics.stdev(indel_stats)}')\n",
        "  print(f'The minimum 95% interval of indel length is [{perc_25}, {perc_975}]')\n",
        "  print(f'The maximum indel length is {max(indel_stats)}')\n",
        "\n",
        "def process_errors_with_indels(samfile: pysam.AlignmentFile):\n",
        "  print(\"===========\")\n",
        "  print('Error stats')\n",
        "  errors_map = defaultdict(lambda: defaultdict(int))\n",
        "  sum_nucls = 0\n",
        "  mismatch_qualities = []\n",
        "  insertion_qualities = [] \n",
        "  for position in samfile.pileup():\n",
        "    position_values = position.get_query_sequences(add_indels=True)\n",
        "    quality_values = position.get_query_qualities()\n",
        "    if len(position_values) == 0:\n",
        "      continue\n",
        "    counter = Counter(position_values)\n",
        "    ref_value = counter.most_common(1)[0][0].upper()[0]\n",
        "    if ref_value not in 'ACTG':\n",
        "      continue\n",
        "    for v, q in zip(position_values, quality_values):\n",
        "      sum_nucls += 1\n",
        "      v = v.upper()\n",
        "      if v != ref_value:\n",
        "        if v in 'ACTG':\n",
        "          mismatch_qualities.append(q)\n",
        "          errors_map[ref_value][v] += 1\n",
        "        elif v == '*':\n",
        "          errors_map[ref_value]['-'] += 1\n",
        "        elif '+' in v:\n",
        "          insertion_qualities.append(q)\n",
        "          v = v[2:]\n",
        "          while v[0].isnumeric():\n",
        "            v = v[1:]\n",
        "          for i in v:\n",
        "            errors_map['-'][i] += 1\n",
        "        elif '-' in v:\n",
        "          res = ''.join(i for i in v if i.isnumeric())\n",
        "          l = int(res)\n",
        "          errors_map[ref_value]['-'] += l\n",
        "        else:\n",
        "          print(f'Error parsing {v}')\n",
        "  df = pd.DataFrame(errors_map)\n",
        "  df = df.sort_index()\n",
        "  df = df.reindex(sorted(df.columns), axis=1)\n",
        "  print(df.to_string(na_rep='0'))\n",
        "  print(f'Error percent is {sum(sum(v.values()) for v in errors_map.values()) / sum_nucls * 100}')\n",
        "\n",
        "  print()\n",
        "  print(\"===========\")\n",
        "  print('Mismatch/insertion quality stats')\n",
        "  print()\n",
        "  print('Mismatch stats:')\n",
        "  perc_25 = np.percentile(np.array(mismatch_qualities), 2.5)\n",
        "  perc_975 = np.percentile(np.array(mismatch_qualities), 97.5)\n",
        "  print(f'The mean mismatch quality is {statistics.mean(mismatch_qualities)}')\n",
        "  print(f'The standard deviation of mismatch quality is {statistics.stdev(mismatch_qualities)}')\n",
        "  print(f'The minimum 95% interval of mismatch quality is [{perc_25}, {perc_975}]')\n",
        "  print(f'The minimum mismatch quality is {min(mismatch_qualities)}')\n",
        "  print(f'The maximum mismatch quality is {max(mismatch_qualities)}')\n",
        "  \n",
        "  print()\n",
        "  print('Insertion stats:')\n",
        "  perc_25 = np.percentile(np.array(insertion_qualities), 2.5)\n",
        "  perc_975 = np.percentile(np.array(insertion_qualities), 97.5)\n",
        "  print(f'The mean insertion quality is {statistics.mean(insertion_qualities)}')\n",
        "  print(f'The standard deviation of insertion quality is {statistics.stdev(insertion_qualities)}')\n",
        "  print(f'The minimum 95% interval of insertion quality is [{perc_25}, {perc_975}]')\n",
        "  print(f'The minimum mismatch quality is {min(insertion_qualities)}')\n",
        "  print(f'The maximum insertion quality is {max(insertion_qualities)}')\n",
        "\n",
        "def find_homopolymer_indels(samfile: pysam.AlignmentFile):\n",
        "  print(\"===========\")\n",
        "  print('Indels stats near homopolymers')\n",
        "  indels_sum = 0\n",
        "  homo_indels_sum = 0\n",
        "  for position in samfile.pileup():\n",
        "    position_values = position.get_query_sequences(add_indels=True)\n",
        "    pileups = position.pileups\n",
        "    for read in pileups:\n",
        "      if read.indel:\n",
        "        indels_sum += 1\n",
        "        alignment = read.alignment\n",
        "        end = alignment.query_alignment_sequence[read.query_position_or_next - 3 : read.query_position_or_next]\n",
        "        start = alignment.query_alignment_sequence[read.query_position_or_next: read.query_position_or_next + 3]\n",
        "        if start in ['AAA', 'CCC', 'TTT', 'GGG'] or end in ['AAA', 'CCC', 'TTT', 'GGG']:\n",
        "          homo_indels_sum += 1\n",
        "  print(f'Percent of indels near homopolymers is {round(homo_indels_sum / indels_sum * 100, 2)}')"
      ],
      "execution_count": 84,
      "outputs": []
    },
    {
      "cell_type": "code",
      "metadata": {
        "colab": {
          "base_uri": "https://localhost:8080/",
          "height": 950
        },
        "id": "2aF0dd159o46",
        "outputId": "62dcc273-eda5-4698-89ca-3800d376a559"
      },
      "source": [
        "print('PROCESSING THE IONTORRENT b FILE')\n",
        "samfile = pysam.AlignmentFile(\"alignment_it_b_sorted.bam\", \"rb\")\n",
        "process_it_read_distribution(samfile=samfile)\n",
        "count_indel_stats(samfile=samfile)\n",
        "process_errors_with_indels(samfile=samfile)\n",
        "find_homopolymer_indels(samfile)"
      ],
      "execution_count": 86,
      "outputs": [
        {
          "output_type": "stream",
          "text": [
            "PROCESSING THE IONTORRENT b FILE\n",
            "===========\n",
            "Coverage stats\n",
            "Mean coverage is 33.367197060594926\n",
            "The percent of genome covered is 99.99880484226692\n"
          ],
          "name": "stdout"
        },
        {
          "output_type": "display_data",
          "data": {
            "image/png": "[encoded data removed]",
            "text/plain": [
              "<Figure size 432x288 with 1 Axes>"
            ]
          },
          "metadata": {
            "tags": [],
            "needs_background": "light"
          }
        },
        {
          "output_type": "stream",
          "text": [
            "===========\n",
            "Indel distribution stats\n",
            "The mean indel length is 1.0885189611763668\n",
            "The standard deviation of indel length is 0.47321106127339624\n",
            "The minimum 95% interval of indel length is [1.0, 2.0]\n",
            "The maximum indel length is 21\n",
            "===========\n",
            "Error stats\n",
            "          -         A         C         G         T\n",
            "-         0  160319.0  135058.0  169508.0  150398.0\n",
            "A  155836.0         0    6793.0   13616.0    7536.0\n",
            "C   63987.0    6190.0         0    4713.0   20778.0\n",
            "G   64870.0   20217.0    5252.0         0    6127.0\n",
            "T  159748.0    7459.0   13096.0    6989.0         0\n",
            "Error percent is 0.7538332506188617\n",
            "\n",
            "===========\n",
            "Mismatch/insertion quality stats\n",
            "\n",
            "Mismatch stats:\n",
            "The mean mismatch quality is 22.075846622770825\n",
            "The standard deviation of mismatch quality is 7.1873385198355875\n",
            "The minimum 95% interval of mismatch quality is [13.0, 34.0]\n",
            "The minimum mismatch quality is 13\n",
            "The maximum mismatch quality is 45\n",
            "\n",
            "Insertion stats:\n",
            "The mean insertion quality is 18.934117070781287\n",
            "The standard deviation of insertion quality is 5.054270568471446\n",
            "The minimum 95% interval of insertion quality is [13.0, 31.0]\n",
            "The minimum mismatch quality is 13\n",
            "The maximum insertion quality is 45\n",
            "===========\n",
            "Indels stats near homopolymers\n",
            "Percent of indels near homopolymers is 7.8\n"
          ],
          "name": "stdout"
        }
      ]
    },
    {
      "cell_type": "code",
      "metadata": {
        "colab": {
          "base_uri": "https://localhost:8080/",
          "height": 950
        },
        "id": "yhxcHrUR9EjW",
        "outputId": "26633147-01ee-4eef-bbf8-6286cd540442"
      },
      "source": [
        "print('PROCESSING THE IONTORRENT c FILE')\n",
        "samfile = pysam.AlignmentFile(\"alignment_it_c_sorted.bam\", \"rb\")\n",
        "process_it_read_distribution(samfile=samfile)\n",
        "count_indel_stats(samfile=samfile)\n",
        "process_errors_with_indels(samfile=samfile)\n",
        "find_homopolymer_indels(samfile)\n"
      ],
      "execution_count": 87,
      "outputs": [
        {
          "output_type": "stream",
          "text": [
            "PROCESSING THE IONTORRENT c FILE\n",
            "===========\n",
            "Coverage stats\n",
            "Mean coverage is 35.33256112657398\n",
            "The percent of genome covered is 99.99985062323188\n"
          ],
          "name": "stdout"
        },
        {
          "output_type": "display_data",
          "data": {
            "image/png": "[encoded data removed]",
            "text/plain": [
              "<Figure size 432x288 with 1 Axes>"
            ]
          },
          "metadata": {
            "tags": [],
            "needs_background": "light"
          }
        },
        {
          "output_type": "stream",
          "text": [
            "===========\n",
            "Indel distribution stats\n",
            "The mean indel length is 1.0689214858590121\n",
            "The standard deviation of indel length is 0.39612080877238715\n",
            "The minimum 95% interval of indel length is [1.0, 2.0]\n",
            "The maximum indel length is 26\n",
            "===========\n",
            "Error stats\n",
            "         -        A         C         G        T\n",
            "-        0  87341.0  105524.0  133514.0  71955.0\n",
            "A  64996.0        0    4617.0   11966.0   4550.0\n",
            "C  36050.0   3355.0         0    3219.0  19703.0\n",
            "G  35560.0  19447.0    3435.0         0   3424.0\n",
            "T  65961.0   4493.0   11718.0    4912.0        0\n",
            "Error percent is 0.4202697906862055\n",
            "\n",
            "===========\n",
            "Mismatch/insertion quality stats\n",
            "\n",
            "Mismatch stats:\n",
            "The mean mismatch quality is 23.870823184554876\n",
            "The standard deviation of mismatch quality is 7.368161523974842\n",
            "The minimum 95% interval of mismatch quality is [13.0, 34.0]\n",
            "The minimum mismatch quality is 13\n",
            "The maximum mismatch quality is 45\n",
            "\n",
            "Insertion stats:\n",
            "The mean insertion quality is 17.714440246527925\n",
            "The standard deviation of insertion quality is 4.54029197511604\n",
            "The minimum 95% interval of insertion quality is [13.0, 29.0]\n",
            "The minimum mismatch quality is 13\n",
            "The maximum insertion quality is 43\n",
            "===========\n",
            "Indels stats near homopolymers\n",
            "Percent of indels near homopolymers is 7.15\n"
          ],
          "name": "stdout"
        }
      ]
    },
    {
      "cell_type": "code",
      "metadata": {
        "id": "rOtXcNLq9fXS"
      },
      "source": [
        ""
      ],
      "execution_count": null,
      "outputs": []
    }
  ]
}