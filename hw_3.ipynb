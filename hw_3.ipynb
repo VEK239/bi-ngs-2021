{
  "nbformat": 4,
  "nbformat_minor": 0,
  "metadata": {
    "colab": {
      "name": "bi_ngs_hw_3.ipynb",
      "provenance": [],
      "toc_visible": true
    },
    "kernelspec": {
      "display_name": "Python 3",
      "name": "python3"
    }
  },
  "cells": [
    {
      "cell_type": "markdown",
      "metadata": {
        "id": "1qIkJz7zAuwp"
      },
      "source": [
        "# Installing bwa, samtools and making the alignment "
      ]
    },
    {
      "cell_type": "code",
      "metadata": {
        "id": "zDwNr0i7J9QY"
      },
      "source": [
        "!sudo apt-get install samtools"
      ],
      "execution_count": null,
      "outputs": []
    },
    {
      "cell_type": "code",
      "metadata": {
        "colab": {
          "base_uri": "https://localhost:8080/"
        },
        "id": "BH1W4CVbj7_b",
        "outputId": "b8cfbec3-2117-406d-d483-f3a323bc2119"
      },
      "source": [
        "!curl -L https://github.com/lh3/minimap2/releases/download/v2.17/minimap2-2.17_x64-linux.tar.bz2 --output minimap2.tar.bz2"
      ],
      "execution_count": 3,
      "outputs": [
        {
          "output_type": "stream",
          "text": [
            "  % Total    % Received % Xferd  Average Speed   Time    Time     Time  Current\n",
            "                                 Dload  Upload   Total   Spent    Left  Speed\n",
            "100   637  100   637    0     0   4423      0 --:--:-- --:--:-- --:--:--  4423\n",
            "100 2051k  100 2051k    0     0  4195k      0 --:--:-- --:--:-- --:--:-- 6034k\n"
          ],
          "name": "stdout"
        }
      ]
    },
    {
      "cell_type": "code",
      "metadata": {
        "colab": {
          "base_uri": "https://localhost:8080/"
        },
        "id": "hfh8xnKjrzgP",
        "outputId": "f0dee655-efe9-43a6-8a27-303f976afdc7"
      },
      "source": [
        "!tar -jxvf ./minimap2.tar.bz2"
      ],
      "execution_count": 7,
      "outputs": [
        {
          "output_type": "stream",
          "text": [
            "minimap2-2.17_x64-linux/\n",
            "minimap2-2.17_x64-linux/minimap2\n",
            "minimap2-2.17_x64-linux/NEWS.md\n",
            "minimap2-2.17_x64-linux/k8\n",
            "minimap2-2.17_x64-linux/LICENSE.txt\n",
            "minimap2-2.17_x64-linux/cookbook.md\n",
            "minimap2-2.17_x64-linux/README-js.md\n",
            "minimap2-2.17_x64-linux/minimap2.1\n",
            "minimap2-2.17_x64-linux/paftools.js\n",
            "minimap2-2.17_x64-linux/README.md\n"
          ],
          "name": "stdout"
        }
      ]
    },
    {
      "cell_type": "code",
      "metadata": {
        "id": "E-yUg0dEy5yf",
        "colab": {
          "base_uri": "https://localhost:8080/"
        },
        "outputId": "0b2b4d0d-1dc9-4d02-f48a-ae45cf21db80"
      },
      "source": [
        "!./minimap2-2.17_x64-linux/minimap2 --MD -H -a -t 4 reference.fasta pacbio_40x.fq.gz > pacbio.sam\n",
        "!samtools view -S -b pacbio.sam > pacbio.bam\n",
        "!samtools sort pacbio.bam > pacbio_sorted.bam\n",
        "!samtools index pacbio_sorted.bam"
      ],
      "execution_count": 23,
      "outputs": [
        {
          "output_type": "stream",
          "text": [
            "[M::mm_idx_gen::0.198*1.23] collected minimizers\n",
            "[M::mm_idx_gen::0.235*1.35] sorted minimizers\n",
            "[M::main::0.235*1.35] loaded/built the index for 1 target sequence(s)\n",
            "[M::mm_mapopt_update::0.249*1.33] mid_occ = 12\n",
            "[M::mm_idx_stat] kmer size: 15; skip: 10; is_hpc: 1; #seq: 1\n",
            "[M::mm_idx_stat::0.259*1.32] distinct minimizers: 513422 (82.88% are singletons); average occurrences: 1.235; average spacing: 7.318\n",
            "[WARNING]\u001b[1;31m wrong FASTA/FASTQ record. Continue anyway.\u001b[0m\n",
            "[M::worker_pipeline::123.400*1.90] mapped 34054 sequences\n",
            "[M::main] Version: 2.17-r941\n",
            "[M::main] CMD: ./minimap2-2.17_x64-linux/minimap2 --MD -H -a -t 4 reference.fasta pacbio_40x.fq.gz\n",
            "[M::main] Real time: 123.455 sec; CPU: 234.453 sec; Peak RSS: 1.617 GB\n"
          ],
          "name": "stdout"
        }
      ]
    },
    {
      "cell_type": "code",
      "metadata": {
        "colab": {
          "base_uri": "https://localhost:8080/"
        },
        "id": "LWDTnkQd4_6V",
        "outputId": "7e9588bb-dfec-411b-a7ea-8f355a7e5834"
      },
      "source": [
        "!./minimap2-2.17_x64-linux/minimap2 --MD -H -a -t 4 reference.fasta ONT_2D.fastq.gz > ONT_2D.sam\n",
        "!samtools view -S -b ONT_2D.sam > ONT_2D.bam\n",
        "!samtools sort ONT_2D.bam > ONT_2D_sorted.bam\n",
        "!samtools index ONT_2D_sorted.bam"
      ],
      "execution_count": 25,
      "outputs": [
        {
          "output_type": "stream",
          "text": [
            "[M::mm_idx_gen::0.185*1.00] collected minimizers\n",
            "[M::mm_idx_gen::0.221*1.16] sorted minimizers\n",
            "[M::main::0.221*1.16] loaded/built the index for 1 target sequence(s)\n",
            "[M::mm_mapopt_update::0.233*1.15] mid_occ = 12\n",
            "[M::mm_idx_stat] kmer size: 15; skip: 10; is_hpc: 1; #seq: 1\n",
            "[M::mm_idx_stat::0.243*1.14] distinct minimizers: 513422 (82.88% are singletons); average occurrences: 1.235; average spacing: 7.318\n",
            "[M::worker_pipeline::55.383*1.88] mapped 30810 sequences\n",
            "[M::main] Version: 2.17-r941\n",
            "[M::main] CMD: ./minimap2-2.17_x64-linux/minimap2 --MD -H -a -t 4 reference.fasta ONT_2D.fastq.gz\n",
            "[M::main] Real time: 55.408 sec; CPU: 103.951 sec; Peak RSS: 0.961 GB\n"
          ],
          "name": "stdout"
        }
      ]
    },
    {
      "cell_type": "code",
      "metadata": {
        "colab": {
          "base_uri": "https://localhost:8080/"
        },
        "id": "yy2Txwx7CJds",
        "outputId": "d5740110-eb74-4ab3-97a0-2ab3bd71a100"
      },
      "source": [
        "!samtools flagstat pacbio_sorted.bam"
      ],
      "execution_count": 26,
      "outputs": [
        {
          "output_type": "stream",
          "text": [
            "32097 + 0 in total (QC-passed reads + QC-failed reads)\n",
            "1062 + 0 secondary\n",
            "225 + 0 supplementary\n",
            "0 + 0 duplicates\n",
            "29584 + 0 mapped (92.17% : N/A)\n",
            "0 + 0 paired in sequencing\n",
            "0 + 0 read1\n",
            "0 + 0 read2\n",
            "0 + 0 properly paired (N/A : N/A)\n",
            "0 + 0 with itself and mate mapped\n",
            "0 + 0 singletons (N/A : N/A)\n",
            "0 + 0 with mate mapped to a different chr\n",
            "0 + 0 with mate mapped to a different chr (mapQ>=5)\n"
          ],
          "name": "stdout"
        }
      ]
    },
    {
      "cell_type": "code",
      "metadata": {
        "colab": {
          "base_uri": "https://localhost:8080/"
        },
        "id": "4ZXvUYfVHKLv",
        "outputId": "7fe6553b-f8fb-445e-ff75-9cba84f4a558"
      },
      "source": [
        "!pip install pysam"
      ],
      "execution_count": 27,
      "outputs": [
        {
          "output_type": "stream",
          "text": [
            "Collecting pysam\n",
            "\u001b[?25l  Downloading https://files.pythonhosted.org/packages/20/85/335857b9888f6d9a13b03a8f21b0a6228b180c361631d9d70e7be3e22163/pysam-0.16.0.1-cp37-cp37m-manylinux1_x86_64.whl (9.9MB)\n",
            "\u001b[K     |████████████████████████████████| 9.9MB 3.5MB/s \n",
            "\u001b[?25hInstalling collected packages: pysam\n",
            "Successfully installed pysam-0.16.0.1\n"
          ],
          "name": "stdout"
        }
      ]
    },
    {
      "cell_type": "markdown",
      "metadata": {
        "id": "7tcFoi7KBy_A"
      },
      "source": [
        "# Statistics counting functions"
      ]
    },
    {
      "cell_type": "code",
      "metadata": {
        "id": "1qLTwHpWHhUU"
      },
      "source": [
        "import pysam\n",
        "import matplotlib.pyplot as plt\n",
        "import matplotlib\n",
        "import statistics\n",
        "import numpy as np\n",
        "from collections import defaultdict, Counter\n",
        "import pandas as pd\n",
        "import seaborn as sns"
      ],
      "execution_count": 29,
      "outputs": []
    },
    {
      "cell_type": "code",
      "metadata": {
        "id": "cI6ED34wHc6j"
      },
      "source": [
        "def process_it_read_distribution(samfile: pysam.AlignmentFile):\n",
        "  print(\"===========\")\n",
        "  print('Coverage stats')\n",
        "  distribution = []\n",
        "  for pileupcolumn in samfile.pileup():\n",
        "      distribution.append(pileupcolumn.get_num_aligned())\n",
        "  print(f'Mean coverage is {sum(distribution) / len(distribution)}')\n",
        "  print(f'The percent of genome covered is {100 - 100 * (sum(x == 0 for x in distribution) / len(distribution))}')\n",
        "  plt.plot(distribution, label=\"Coverage distribution\")\n",
        "  plt.show()\n",
        "\n",
        "def count_indel_stats(samfile: pysam.AlignmentFile):\n",
        "  print(\"===========\")\n",
        "  print('Indel distribution stats')\n",
        "  indel_stats = []\n",
        "  for position in samfile.pileup():\n",
        "     for res in position.get_query_sequences(add_indels=True):\n",
        "       if '+' in res:\n",
        "          res = ''.join(i for i in res if i.isnumeric())\n",
        "          l = int(res)\n",
        "          indel_stats.append(l)\n",
        "  perc_25 = np.percentile(np.array(indel_stats), 2.5)\n",
        "  perc_975 = np.percentile(np.array(indel_stats), 97.5)\n",
        "  print(f'The mean indel length is {statistics.mean(indel_stats)}')\n",
        "  print(f'The standard deviation of indel length is {statistics.stdev(indel_stats)}')\n",
        "  print(f'The minimum 95% interval of indel length is [{perc_25}, {perc_975}]')\n",
        "  print(f'The maximum indel length is {max(indel_stats)}')\n",
        "\n",
        "def process_errors_with_indels(samfile: pysam.AlignmentFile):\n",
        "  print(\"===========\")\n",
        "  print('Error stats')\n",
        "  errors_map = defaultdict(lambda: defaultdict(int))\n",
        "  sum_nucls = 0\n",
        "  mismatch_qualities = []\n",
        "  insertion_qualities = [] \n",
        "  for position in samfile.pileup():\n",
        "    position_values = position.get_query_sequences(add_indels=True)\n",
        "    quality_values = position.get_query_qualities()\n",
        "    if len(position_values) == 0:\n",
        "      continue\n",
        "    counter = Counter(position_values)\n",
        "    ref_value = counter.most_common(1)[0][0].upper()[0]\n",
        "    if ref_value not in 'ACTG':\n",
        "      continue\n",
        "    for v, q in zip(position_values, quality_values):\n",
        "      sum_nucls += 1\n",
        "      v = v.upper()\n",
        "      if v != ref_value:\n",
        "        if v in 'ACTG':\n",
        "          mismatch_qualities.append(q)\n",
        "          errors_map[ref_value][v] += 1\n",
        "        elif v == '*':\n",
        "          errors_map[ref_value]['-'] += 1\n",
        "        elif '+' in v:\n",
        "          insertion_qualities.append(q)\n",
        "          v = v[2:]\n",
        "          while v[0].isnumeric():\n",
        "            v = v[1:]\n",
        "          for i in v:\n",
        "            errors_map['-'][i] += 1\n",
        "        elif '-' in v:\n",
        "          res = ''.join(i for i in v if i.isnumeric())\n",
        "          l = int(res)\n",
        "          errors_map[ref_value]['-'] += l\n",
        "        else:\n",
        "          print(f'Error parsing {v}')\n",
        "  df = pd.DataFrame(errors_map)\n",
        "  df = df.sort_index()\n",
        "  df = df.reindex(sorted(df.columns), axis=1)\n",
        "  print(df.to_string(na_rep='0'))\n",
        "  print(f'Error percent is {sum(sum(v.values()) for v in errors_map.values()) / sum_nucls * 100}')\n",
        "\n",
        "  print()\n",
        "  print(\"===========\")\n",
        "  print('Mismatch/insertion quality stats')\n",
        "  print()\n",
        "  print('Mismatch stats:')\n",
        "  perc_25 = np.percentile(np.array(mismatch_qualities), 2.5)\n",
        "  perc_975 = np.percentile(np.array(mismatch_qualities), 97.5)\n",
        "  print(f'The mean mismatch quality is {statistics.mean(mismatch_qualities)}')\n",
        "  print(f'The standard deviation of mismatch quality is {statistics.stdev(mismatch_qualities)}')\n",
        "  print(f'The minimum 95% interval of mismatch quality is [{perc_25}, {perc_975}]')\n",
        "  print(f'The minimum mismatch quality is {min(mismatch_qualities)}')\n",
        "  print(f'The maximum mismatch quality is {max(mismatch_qualities)}')\n",
        "  \n",
        "  print()\n",
        "  print('Insertion stats:')\n",
        "  perc_25 = np.percentile(np.array(insertion_qualities), 2.5)\n",
        "  perc_975 = np.percentile(np.array(insertion_qualities), 97.5)\n",
        "  print(f'The mean insertion quality is {statistics.mean(insertion_qualities)}')\n",
        "  print(f'The standard deviation of insertion quality is {statistics.stdev(insertion_qualities)}')\n",
        "  print(f'The minimum 95% interval of insertion quality is [{perc_25}, {perc_975}]')\n",
        "  print(f'The minimum mismatch quality is {min(insertion_qualities)}')\n",
        "  print(f'The maximum insertion quality is {max(insertion_qualities)}')\n",
        "\n",
        "def find_homopolymer_indels(samfile: pysam.AlignmentFile):\n",
        "  print(\"===========\")\n",
        "  print('Indels stats near homopolymers')\n",
        "  indels_sum = 0\n",
        "  homo_indels_sum = 0\n",
        "  for position in samfile.pileup():\n",
        "    position_values = position.get_query_sequences(add_indels=True)\n",
        "    pileups = position.pileups\n",
        "    for read in pileups:\n",
        "      if read.indel:\n",
        "        indels_sum += 1\n",
        "        alignment = read.alignment\n",
        "        end = alignment.query_alignment_sequence[read.query_position_or_next - 3 : read.query_position_or_next]\n",
        "        start = alignment.query_alignment_sequence[read.query_position_or_next: read.query_position_or_next + 3]\n",
        "        if start in ['AAA', 'CCC', 'TTT', 'GGG'] or end in ['AAA', 'CCC', 'TTT', 'GGG']:\n",
        "          homo_indels_sum += 1\n",
        "  print(f'Percent of indels near homopolymers is {round(homo_indels_sum / indels_sum * 100, 2)}')"
      ],
      "execution_count": 30,
      "outputs": []
    },
    {
      "cell_type": "code",
      "metadata": {
        "colab": {
          "base_uri": "https://localhost:8080/",
          "height": 950
        },
        "id": "2aF0dd159o46",
        "outputId": "f8f5ce84-a1ab-4d45-d49c-d206fd0dda09"
      },
      "source": [
        "print('PROCESSING THE PACBIO FILE')\n",
        "samfile = pysam.AlignmentFile(\"pacbio_sorted.bam\", \"rb\")\n",
        "process_it_read_distribution(samfile=samfile)\n",
        "count_indel_stats(samfile=samfile)\n",
        "process_errors_with_indels(samfile=samfile)\n",
        "find_homopolymer_indels(samfile)"
      ],
      "execution_count": 31,
      "outputs": [
        {
          "output_type": "stream",
          "text": [
            "PROCESSING THE PACBIO FILE\n",
            "===========\n",
            "Coverage stats\n",
            "Mean coverage is 12.432427486839057\n",
            "The percent of genome covered is 97.88170507632539\n"
          ],
          "name": "stdout"
        },
        {
          "output_type": "display_data",
          "data": {
            "image/png": "[encoded data removed]",
            "text/plain": [
              "<Figure size 432x288 with 1 Axes>"
            ]
          },
          "metadata": {
            "tags": [],
            "needs_background": "light"
          }
        },
        {
          "output_type": "stream",
          "text": [
            "===========\n",
            "Indel distribution stats\n",
            "The mean indel length is 1.3675117359287527\n",
            "The standard deviation of indel length is 3.7327333896137938\n",
            "The minimum 95% interval of indel length is [1.0, 4.0]\n",
            "The maximum indel length is 1714\n",
            "===========\n",
            "Error stats\n",
            "           -         A         C         G         T\n",
            "-          0  654462.0  697191.0  855439.0  635209.0\n",
            "A  1111296.0         0   48945.0   43075.0   42055.0\n",
            "C  1286500.0   38803.0         0   43662.0   36456.0\n",
            "G  1379741.0   36433.0   41787.0         0   38773.0\n",
            "T  1072452.0   42021.0   41957.0   48270.0         0\n",
            "Error percent is 14.254647722622046\n",
            "\n",
            "===========\n",
            "Mismatch/insertion quality stats\n",
            "\n",
            "Mismatch stats:\n",
            "The mean mismatch quality is 13.465674571965028\n",
            "The standard deviation of mismatch quality is 0.5087411536646687\n",
            "The minimum 95% interval of mismatch quality is [13.0, 14.0]\n",
            "The minimum mismatch quality is 13\n",
            "The maximum mismatch quality is 15\n",
            "\n",
            "Insertion stats:\n",
            "The mean insertion quality is 13.570338881273994\n",
            "The standard deviation of insertion quality is 0.5153161255713392\n",
            "The minimum 95% interval of insertion quality is [13.0, 14.0]\n",
            "The minimum mismatch quality is 13\n",
            "The maximum insertion quality is 15\n",
            "===========\n",
            "Indels stats near homopolymers\n",
            "Percent of indels near homopolymers is 12.86\n"
          ],
          "name": "stdout"
        }
      ]
    },
    {
      "cell_type": "code",
      "metadata": {
        "colab": {
          "base_uri": "https://localhost:8080/",
          "height": 950
        },
        "id": "yhxcHrUR9EjW",
        "outputId": "7af2fea6-668e-4ae6-e1a2-918cc6058e1a"
      },
      "source": [
        "print('PROCESSING THE NANOPORE FILE')\n",
        "samfile = pysam.AlignmentFile(\"ONT_2D_sorted.bam\", \"rb\")\n",
        "process_it_read_distribution(samfile=samfile)\n",
        "count_indel_stats(samfile=samfile)\n",
        "process_errors_with_indels(samfile=samfile)\n",
        "find_homopolymer_indels(samfile)\n"
      ],
      "execution_count": 32,
      "outputs": [
        {
          "output_type": "stream",
          "text": [
            "PROCESSING THE NANOPORE FILE\n",
            "===========\n",
            "Coverage stats\n",
            "Mean coverage is 22.96393432729663\n",
            "The percent of genome covered is 99.99963359502551\n"
          ],
          "name": "stdout"
        },
        {
          "output_type": "display_data",
          "data": {
            "image/png": "[encoded data removed]",
            "text/plain": [
              "<Figure size 432x288 with 1 Axes>"
            ]
          },
          "metadata": {
            "tags": [],
            "needs_background": "light"
          }
        },
        {
          "output_type": "stream",
          "text": [
            "===========\n",
            "Indel distribution stats\n",
            "The mean indel length is 1.7486942679658837\n",
            "The standard deviation of indel length is 9.530802018428576\n",
            "The minimum 95% interval of indel length is [1.0, 5.0]\n",
            "The maximum indel length is 1196\n",
            "===========\n",
            "Error stats\n",
            "          -          A          C          G          T\n",
            "-         0  1157758.0  1496328.0  1214805.0  1285298.0\n",
            "A  191553.0          0    18490.0    51104.0    15531.0\n",
            "C  178037.0    16785.0          0    13425.0    54821.0\n",
            "G  188254.0    53096.0    12810.0          0    15994.0\n",
            "T  176071.0    15151.0    55784.0    17383.0          0\n",
            "Error percent is 5.893161473119018\n",
            "\n",
            "===========\n",
            "Mismatch/insertion quality stats\n",
            "\n",
            "Mismatch stats:\n",
            "The mean mismatch quality is 16.597933449675946\n",
            "The standard deviation of mismatch quality is 4.267779139780447\n",
            "The minimum 95% interval of mismatch quality is [13.0, 28.0]\n",
            "The minimum mismatch quality is 13\n",
            "The maximum mismatch quality is 93\n",
            "\n",
            "Insertion stats:\n",
            "The mean insertion quality is 19.5166200210678\n",
            "The standard deviation of insertion quality is 6.783643993960743\n",
            "The minimum 95% interval of insertion quality is [13.0, 36.0]\n",
            "The minimum mismatch quality is 13\n",
            "The maximum insertion quality is 93\n",
            "===========\n",
            "Indels stats near homopolymers\n",
            "Percent of indels near homopolymers is 13.1\n"
          ],
          "name": "stdout"
        }
      ]
    },
    {
      "cell_type": "code",
      "metadata": {
        "id": "rOtXcNLq9fXS"
      },
      "source": [
        ""
      ],
      "execution_count": null,
      "outputs": []
    }
  ]
}